{
 "cells": [
  {
   "cell_type": "markdown",
   "id": "34b48015",
   "metadata": {},
   "source": [
    "# Computing Project - Initial"
   ]
  },
  {
   "cell_type": "markdown",
   "id": "5db3382d",
   "metadata": {
    "vscode": {
     "languageId": "plaintext"
    }
   },
   "source": [
    "#### Imports"
   ]
  },
  {
   "cell_type": "code",
   "execution_count": 13,
   "id": "80cd981e",
   "metadata": {},
   "outputs": [],
   "source": [
    "import numpy as np\n",
    "import matplotlib.pyplot as plt"
   ]
  },
  {
   "cell_type": "markdown",
   "id": "ad3efcc6",
   "metadata": {},
   "source": [
    "#### Constants"
   ]
  },
  {
   "cell_type": "code",
   "execution_count": 14,
   "id": "9a3ef961",
   "metadata": {},
   "outputs": [],
   "source": [
    "G = 6.67430e-11 # m^3 kg^-1 s^-2\n",
    "m_e = 5.972e24 # kg\n",
    "m_m = 7.348e22 # kg\n",
    "d = 384400000 # m\n",
    "time_step = 10 #s"
   ]
  },
  {
   "cell_type": "code",
   "execution_count": 15,
   "id": "70965f91",
   "metadata": {},
   "outputs": [],
   "source": [
    "T = 2*np.pi*np.sqrt(d**3/(G*(m_e + m_m)))\n",
    "max_time = 2*T\n",
    "time = np.arange(0, max_time, time_step) #s\n",
    "n_steps = len(time)"
   ]
  },
  {
   "cell_type": "markdown",
   "id": "70bab47a",
   "metadata": {},
   "source": [
    "### Initial Conditions"
   ]
  },
  {
   "cell_type": "code",
   "execution_count": 22,
   "id": "6e60f951",
   "metadata": {},
   "outputs": [],
   "source": [
    "initial_eearth = pos_earth_moon(0)"
   ]
  },
  {
   "cell_type": "code",
   "execution_count": 16,
   "id": "2065c9d3",
   "metadata": {},
   "outputs": [],
   "source": [
    "r0 = np.array([ 4.672203365e6, 6.571000e6])  # m\n",
    "v0 = np.array([ 10988.378, 12.452740 ]) # m/s"
   ]
  },
  {
   "cell_type": "markdown",
   "id": "fad3fa52",
   "metadata": {},
   "source": [
    "## Functions"
   ]
  },
  {
   "cell_type": "code",
   "execution_count": 17,
   "id": "e7061c09",
   "metadata": {},
   "outputs": [],
   "source": [
    "def pos_earth_moon(t,circular=True):\n",
    "    \"\"\"\n",
    "    This function returns the position of the Earth-Moon about it's barycenter at time t\n",
    "\n",
    "    Inputs: \n",
    "        time_step - interval of time in seconds which the position is to be calculated\n",
    "\n",
    "    Outputs\n",
    "        pos_earth - Array size (2,int(max_time/timestep))\n",
    "        pos_moon - Array size (2,int(max_time/timestep))\n",
    "    \"\"\"\n",
    "    if circular:\n",
    "        # Angular velocity\n",
    "        omega = 2*np.pi/T # rad/s\n",
    "\n",
    "        # Earth position (assuming circular orbit around barycenter)\n",
    "        r_e = d*m_m/(m_e + m_m) # m\n",
    "        x_e = r_e * np.cos(omega*t) # x position of Earth, m\n",
    "        y_e = r_e * np.sin(omega*t) # y position of Earth, m\n",
    "\n",
    "        # Moon position (assuming circular orbit around barycenter)\n",
    "        r_m = d*m_e/(m_e + m_m) # m\n",
    "        x_m = r_m * np.cos(omega*t + np.pi) # x position of Moon, m\n",
    "        y_m = r_m * np.sin(omega*t + np.pi) # y position of Moon, m\n",
    "\n",
    "        pos_earth = np.array([x_e, y_e])\n",
    "        pos_moon = np.array([x_m, y_m])\n",
    "        return pos_earth, pos_moon\n",
    "    else:\n",
    "        raise(NotImplementedError(\"Elliptical orbits not yet implemented\"))"
   ]
  },
  {
   "cell_type": "markdown",
   "id": "e875fa32",
   "metadata": {},
   "source": [
    "### Solving ODE"
   ]
  },
  {
   "cell_type": "code",
   "execution_count": 18,
   "id": "a0ea60f5",
   "metadata": {},
   "outputs": [],
   "source": [
    "def acceleration(r, t):\n",
    "    '''\n",
    "    This function calculates the acceleration on a rocket at position (x,y) at time t\n",
    "    '''\n",
    "    pos_earth, pos_moon = pos_earth_moon(t)\n",
    "    x = r[0]\n",
    "    y = r[1]\n",
    "    # Distance vectors\n",
    "\n",
    "    r_earth = np.array([x - pos_earth[0], y - pos_earth[1]])\n",
    "    r_moon = np.array([x - pos_moon[0], y - pos_moon[1]])\n",
    "\n",
    "    # Magnitudes\n",
    "    r_earth_mag = np.linalg.norm(r_earth)\n",
    "    r_moon_mag = np.linalg.norm(r_moon)\n",
    "\n",
    "    # Gravitational acceleration\n",
    "    a_earth = -G * m_e * r_earth / r_earth_mag**3\n",
    "    a_moon = -G * m_m * r_moon / r_moon_mag**3\n",
    "\n",
    "    return a_earth + a_moon"
   ]
  },
  {
   "cell_type": "code",
   "execution_count": 19,
   "id": "845cbcd5",
   "metadata": {},
   "outputs": [],
   "source": [
    "def evolve(r_rocket,v_rocket, n_steps, method = 'RK4'):\n",
    "    # Preallocate\n",
    "    r = np.zeros((2, n_steps))\n",
    "    v = np.zeros((2, n_steps))\n",
    "    r[:, 0] = r0\n",
    "    v[:, 0] = v0\n",
    "    \n",
    "    if method == 'Taylor':\n",
    "        for i in range(n_steps-1):\n",
    "            a_rocket = acceleration(r[:, i], time[i])\n",
    "            \n",
    "            r[:, i+1] = r[:, i] + time_step * v[:, i] + 0.5 * time_step**2 * a_rocket\n",
    "            v[:, i+1] = v[:, i] + time_step * a_rocket\n",
    "\n",
    "    elif method == 'RK4':\n",
    "        for n in range(n_steps-1):\n",
    "            # z1\n",
    "            z1 = r[:,n] + 0.5*time_step*v[:,n]\n",
    "\n",
    "            r_ddot = acceleration(r[:, n], time[n])\n",
    "            z1_dot = v[:,n] + 0.5*time_step*r_ddot\n",
    "\n",
    "            #z2\n",
    "            z2 = r[:,n] + 0.5*time_step*z1_dot\n",
    "\n",
    "            z1_ddot = acceleration(z1, time[n]+0.5*time_step)\n",
    "            z2_dot = v[:,n] + 0.5*time_step*z1_ddot\n",
    "\n",
    "            #z3\n",
    "            z3 = r[:,n] + time_step*z2_dot\n",
    "\n",
    "            z2_ddot = acceleration(z2, time[n]+0.5*time_step)\n",
    "            z3_dot = v[:,n] + time_step*z2_ddot\n",
    "\n",
    "            z3_ddot = acceleration(z3, time[n]+time_step)\n",
    "            # Combine all\n",
    "            r[:, n+1] = r[:, n] + (1/6)*time_step*(v[:, n] + 2*z1_dot + 2*z2_dot + z3_dot)\n",
    "            v[:, n+1] = v[:, n] + (1/6)*time_step*(r_ddot + 2*z1_ddot + 2*z2_ddot + z3_ddot)\n",
    "\n",
    "\n",
    "    return r, v"
   ]
  },
  {
   "cell_type": "code",
   "execution_count": 20,
   "id": "3ac1f1d4",
   "metadata": {},
   "outputs": [],
   "source": [
    "pos_rocket, v_rocket = evolve(r0,v0, n_steps,method = 'RK4')\n",
    "pos_earth, pos_moon = pos_earth_moon(time)"
   ]
  },
  {
   "cell_type": "markdown",
   "id": "e97a1e56",
   "metadata": {},
   "source": [
    "## Plotting"
   ]
  },
  {
   "cell_type": "code",
   "execution_count": 21,
   "id": "b0935e31",
   "metadata": {},
   "outputs": [
    {
     "data": {
      "image/png": "[encoded data removed]",
      "text/plain": [
       "<Figure size 800x800 with 1 Axes>"
      ]
     },
     "metadata": {},
     "output_type": "display_data"
    }
   ],
   "source": [
    "# Create figure and axes explicitly\n",
    "fig = plt.figure(figsize=(8, 8))  # adjustable figure size\n",
    "ax = plt.axes()  # creates a single Axes object\n",
    "\n",
    "# Plot on the specific Axes\n",
    "ax.plot(pos_earth[0], pos_earth[1], label='Earth Orbit')\n",
    "ax.plot(pos_moon[0], pos_moon[1], label='Moon Orbit')\n",
    "ax.plot(pos_rocket[0], pos_rocket[1], label='Rocket Trajectory')\n",
    "\n",
    "# Add labels, legend, grid\n",
    "ax.set_xlabel('X Position (m)')\n",
    "ax.set_ylabel('Y Position (m)')\n",
    "ax.set_title('Earth and Moon Orbits relative to Barycenter')\n",
    "ax.legend()\n",
    "ax.grid(True)\n",
    "ax.set_xlim(-5e8, 5e8)\n",
    "ax.set_ylim(-5e8, 5e8)\n",
    "# Equal aspect ratio for orbits\n",
    "ax.set_aspect('equal', 'box')\n",
    "\n",
    "plt.show()"
   ]
  }
 ],
 "metadata": {
  "kernelspec": {
   "display_name": "Python 3",
   "language": "python",
   "name": "python3"
  },
  "language_info": {
   "codemirror_mode": {
    "name": "ipython",
    "version": 3
   },
   "file_extension": ".py",
   "mimetype": "text/x-python",
   "name": "python",
   "nbconvert_exporter": "python",
   "pygments_lexer": "ipython3",
   "version": "3.12.1"
  }
 },
 "nbformat": 4,
 "nbformat_minor": 5
}
